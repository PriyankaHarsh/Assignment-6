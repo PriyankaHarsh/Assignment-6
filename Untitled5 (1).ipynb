{
  "nbformat": 4,
  "nbformat_minor": 0,
  "metadata": {
    "colab": {
      "provenance": []
    },
    "kernelspec": {
      "name": "python3",
      "display_name": "Python 3"
    },
    "language_info": {
      "name": "python"
    }
  },
  "cells": [
    {
      "cell_type": "markdown",
      "source": [
        "**Assignment-6**"
      ],
      "metadata": {
        "id": "DC7hz5nn83C5"
      }
    },
    {
      "cell_type": "markdown",
      "source": [
        "Q.1. What are keywords in python? Using the keyword library, print all the python keywords."
      ],
      "metadata": {
        "id": "456_vIqe5-rO"
      }
    },
    {
      "cell_type": "markdown",
      "source": [
        "ANS1 Keywords in Python are reserved words that have special meaning to the interpreter. They are used to define the syntax and structure of the Python language and cannot be used as variable names.\n",
        "\n",
        "Example Code:"
      ],
      "metadata": {
        "id": "K7X5zELn6Ajg"
      }
    },
    {
      "cell_type": "code",
      "source": [
        "import keyword\n",
        "\n",
        "# Print all Python keywords\n",
        "print(keyword.kwlist)\n"
      ],
      "metadata": {
        "colab": {
          "base_uri": "https://localhost:8080/"
        },
        "id": "-y9tHRlM6IQQ",
        "outputId": "2778301c-aa03-4cd6-ee06-65e3e210e0b9"
      },
      "execution_count": 1,
      "outputs": [
        {
          "output_type": "stream",
          "name": "stdout",
          "text": [
            "['False', 'None', 'True', 'and', 'as', 'assert', 'async', 'await', 'break', 'class', 'continue', 'def', 'del', 'elif', 'else', 'except', 'finally', 'for', 'from', 'global', 'if', 'import', 'in', 'is', 'lambda', 'nonlocal', 'not', 'or', 'pass', 'raise', 'return', 'try', 'while', 'with', 'yield']\n"
          ]
        }
      ]
    },
    {
      "cell_type": "markdown",
      "source": [
        "Q.2. What are the rules to create variables in python?"
      ],
      "metadata": {
        "id": "VnNGsvJj6OQS"
      }
    },
    {
      "cell_type": "markdown",
      "source": [
        "ANS2\n",
        "* Variable names must start with a letter (a-z, A-Z) or an underscore (_).\n",
        "\n",
        "* The rest of the variable name can contain letters, numbers (0-9), and underscores.\n",
        "\n",
        "* Variable names are case-sensitive (e.g., age, Age, and AGE are three different variables).\n",
        "\n",
        "* Reserved words (keywords) cannot be used as variable names."
      ],
      "metadata": {
        "id": "B5nKMPL96QH8"
      }
    },
    {
      "cell_type": "markdown",
      "source": [
        "Q.3. What are the standards and conventions followed for the nomenclature of variables in\n",
        "python to improve code readability and maintainability?"
      ],
      "metadata": {
        "id": "VXKTX-J56gWP"
      }
    },
    {
      "cell_type": "markdown",
      "source": [
        "ANS3\n",
        "* Use descriptive names: Variable names should clearly describe their purpose.\n",
        "* Snake_case: Use lowercase letters with underscores to separate words (e.g., total_price, user_name).\n",
        "* Constants: Use uppercase letters with underscores to separate words for constant variables (e.g., MAX_LIMIT, PI).\n",
        "* Avoid single character names: Except for loop indices or temporary variables (e.g., i, j, x)."
      ],
      "metadata": {
        "id": "zzrqBHzC6j41"
      }
    },
    {
      "cell_type": "markdown",
      "source": [
        "Q.4. What will happen if a keyword is used as a variable name?"
      ],
      "metadata": {
        "id": "WDgYCR3w6Xz3"
      }
    },
    {
      "cell_type": "markdown",
      "source": [
        "ANS4 If a keyword is used as a variable name, Python will raise a SyntaxError because keywords are reserved for special purposes and cannot be used as identifiers."
      ],
      "metadata": {
        "id": "BCqoMHFk6yOW"
      }
    },
    {
      "cell_type": "code",
      "source": [
        "# This will raise a SyntaxError\n",
        "if = 10\n"
      ],
      "metadata": {
        "colab": {
          "base_uri": "https://localhost:8080/",
          "height": 106
        },
        "id": "kYu5EWaF65Em",
        "outputId": "d06d0ccf-d38b-4101-840e-f8577e876b14"
      },
      "execution_count": 2,
      "outputs": [
        {
          "output_type": "error",
          "ename": "SyntaxError",
          "evalue": "invalid syntax (<ipython-input-2-2b3b902b0883>, line 2)",
          "traceback": [
            "\u001b[0;36m  File \u001b[0;32m\"<ipython-input-2-2b3b902b0883>\"\u001b[0;36m, line \u001b[0;32m2\u001b[0m\n\u001b[0;31m    if = 10\u001b[0m\n\u001b[0m       ^\u001b[0m\n\u001b[0;31mSyntaxError\u001b[0m\u001b[0;31m:\u001b[0m invalid syntax\n"
          ]
        }
      ]
    },
    {
      "cell_type": "markdown",
      "source": [
        "Q.5. For what purpose def keyword is used?"
      ],
      "metadata": {
        "id": "sQEItsxJ61u5"
      }
    },
    {
      "cell_type": "markdown",
      "source": [
        "ANS5 The def keyword is used to define a function in Python. Functions are blocks of reusable code that perform a specific task."
      ],
      "metadata": {
        "id": "UFSxNoRS7ELL"
      }
    },
    {
      "cell_type": "code",
      "source": [
        "def greet(name):\n",
        "    return f\"Hello, {name}!\"\n",
        "\n",
        "print(greet(\"Alice\"))\n"
      ],
      "metadata": {
        "colab": {
          "base_uri": "https://localhost:8080/"
        },
        "id": "tlV04XIS7PU0",
        "outputId": "f56a6ed8-e384-4be4-e387-8f1851d0ea97"
      },
      "execution_count": 3,
      "outputs": [
        {
          "output_type": "stream",
          "name": "stdout",
          "text": [
            "Hello, Alice!\n"
          ]
        }
      ]
    },
    {
      "cell_type": "markdown",
      "source": [
        "Q.6. What is the operation of this special character ‘\\’?"
      ],
      "metadata": {
        "id": "qcXHIf3a7TyR"
      }
    },
    {
      "cell_type": "markdown",
      "source": [
        "ANS6 The backslash \\ is an escape character in Python. It is used to introduce special character sequences, such as newline (\\n), tab (\\t), and others."
      ],
      "metadata": {
        "id": "8JR85Rko7WAl"
      }
    },
    {
      "cell_type": "code",
      "source": [
        "# Using \\n for newline\n",
        "print(\"Hello\\nWorld\")\n",
        "\n",
        "# Using \\t for tab\n",
        "print(\"Hello\\tWorld\")\n"
      ],
      "metadata": {
        "colab": {
          "base_uri": "https://localhost:8080/"
        },
        "id": "mg2Wy4ej7Y-i",
        "outputId": "f220fbf6-3ec1-47b1-d6e4-aa2512094d25"
      },
      "execution_count": 4,
      "outputs": [
        {
          "output_type": "stream",
          "name": "stdout",
          "text": [
            "Hello\n",
            "World\n",
            "Hello\tWorld\n"
          ]
        }
      ]
    },
    {
      "cell_type": "markdown",
      "source": [
        "Q.7. Give an example of the following conditions:\n",
        "(i) Homogeneous list\n",
        "(ii) Heterogeneous set\n",
        "(iii) Homogeneous tuple"
      ],
      "metadata": {
        "id": "-Tl5q3-v7eLG"
      }
    },
    {
      "cell_type": "code",
      "source": [
        "homogeneous_list = [1, 2, 3, 4, 5]\n",
        "heterogeneous_set = {1, \"two\", 3.0, (4, 'four')}\n",
        "homogeneous_tuple = (\"apple\", \"banana\", \"cherry\")\n"
      ],
      "metadata": {
        "id": "o4oAtWu77hvq"
      },
      "execution_count": 5,
      "outputs": []
    },
    {
      "cell_type": "markdown",
      "source": [
        "Q.8. Explain the mutable and immutable data types with proper explanation & examples."
      ],
      "metadata": {
        "id": "Ckjqa0uf7fis"
      }
    },
    {
      "cell_type": "markdown",
      "source": [
        "Mutable data types: Data types whose values can be changed after they are created. Examples include lists, dictionaries, and sets."
      ],
      "metadata": {
        "id": "z8psrEuO7tFR"
      }
    },
    {
      "cell_type": "code",
      "source": [
        "# List (mutable)\n",
        "my_list = [1, 2, 3]\n",
        "my_list.append(4)  # Changes the list\n",
        "print(my_list)  # Output: [1, 2, 3, 4]\n"
      ],
      "metadata": {
        "colab": {
          "base_uri": "https://localhost:8080/"
        },
        "id": "1MvJEDaw7w4M",
        "outputId": "317f7b7d-2ee1-42ff-e77d-3c8515e9fde0"
      },
      "execution_count": 6,
      "outputs": [
        {
          "output_type": "stream",
          "name": "stdout",
          "text": [
            "[1, 2, 3, 4]\n"
          ]
        }
      ]
    },
    {
      "cell_type": "markdown",
      "source": [
        "Immutable data types: Data types whose values cannot be changed after they are created. Examples include strings, tuples, and integers."
      ],
      "metadata": {
        "id": "mi_oltzM7yn8"
      }
    },
    {
      "cell_type": "code",
      "source": [
        "# String (immutable)\n",
        "my_string = \"hello\"\n",
        "my_string[0] = 'H'  # Raises a TypeError\n"
      ],
      "metadata": {
        "colab": {
          "base_uri": "https://localhost:8080/",
          "height": 176
        },
        "id": "RxSf3qxH70nU",
        "outputId": "c827bdc2-4e88-45fe-8565-e2c16f9330de"
      },
      "execution_count": 7,
      "outputs": [
        {
          "output_type": "error",
          "ename": "TypeError",
          "evalue": "'str' object does not support item assignment",
          "traceback": [
            "\u001b[0;31m---------------------------------------------------------------------------\u001b[0m",
            "\u001b[0;31mTypeError\u001b[0m                                 Traceback (most recent call last)",
            "\u001b[0;32m<ipython-input-7-1510825cc246>\u001b[0m in \u001b[0;36m<cell line: 3>\u001b[0;34m()\u001b[0m\n\u001b[1;32m      1\u001b[0m \u001b[0;31m# String (immutable)\u001b[0m\u001b[0;34m\u001b[0m\u001b[0;34m\u001b[0m\u001b[0m\n\u001b[1;32m      2\u001b[0m \u001b[0mmy_string\u001b[0m \u001b[0;34m=\u001b[0m \u001b[0;34m\"hello\"\u001b[0m\u001b[0;34m\u001b[0m\u001b[0;34m\u001b[0m\u001b[0m\n\u001b[0;32m----> 3\u001b[0;31m \u001b[0mmy_string\u001b[0m\u001b[0;34m[\u001b[0m\u001b[0;36m0\u001b[0m\u001b[0;34m]\u001b[0m \u001b[0;34m=\u001b[0m \u001b[0;34m'H'\u001b[0m  \u001b[0;31m# Raises a TypeError\u001b[0m\u001b[0;34m\u001b[0m\u001b[0;34m\u001b[0m\u001b[0m\n\u001b[0m",
            "\u001b[0;31mTypeError\u001b[0m: 'str' object does not support item assignment"
          ]
        }
      ]
    },
    {
      "cell_type": "markdown",
      "source": [
        "Q.9. Write a code to create the given structure using only for loop.\n",
        "\n",
        "*\n",
        "***\n",
        "*****\n",
        "*******\n",
        "*********"
      ],
      "metadata": {
        "id": "lRpt2wTH7_YX"
      }
    },
    {
      "cell_type": "code",
      "source": [
        "rows = 5\n",
        "for i in range(rows):\n",
        "    print('*' * (2 * i + 1))\n"
      ],
      "metadata": {
        "colab": {
          "base_uri": "https://localhost:8080/"
        },
        "id": "scS66wbc8At_",
        "outputId": "51d3436e-ad6d-4d0c-ebb7-55ab2862dbed"
      },
      "execution_count": 8,
      "outputs": [
        {
          "output_type": "stream",
          "name": "stdout",
          "text": [
            "*\n",
            "***\n",
            "*****\n",
            "*******\n",
            "*********\n"
          ]
        }
      ]
    },
    {
      "cell_type": "markdown",
      "source": [
        "Q.10. Write a code to create the given structure using while loop.\n",
        "\n",
        "|||||||||\n",
        "\n",
        "|||||||\n",
        "\n",
        "|||||\n",
        "\n",
        "|||\n",
        "\n",
        "|"
      ],
      "metadata": {
        "id": "qbEcz7Ba8aVa"
      }
    },
    {
      "cell_type": "code",
      "source": [
        "rows = 5\n",
        "while rows > 0:\n",
        "    print('|' * (2 * rows - 1))\n",
        "    rows -= 1\n"
      ],
      "metadata": {
        "colab": {
          "base_uri": "https://localhost:8080/"
        },
        "id": "jo5Um2RZ8iAP",
        "outputId": "d4e8fe69-2427-4b07-a0cd-763c71ba2905"
      },
      "execution_count": 9,
      "outputs": [
        {
          "output_type": "stream",
          "name": "stdout",
          "text": [
            "|||||||||\n",
            "|||||||\n",
            "|||||\n",
            "|||\n",
            "|\n"
          ]
        }
      ]
    }
  ]
}